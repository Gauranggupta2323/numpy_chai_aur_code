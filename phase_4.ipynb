{
 "cells": [
  {
   "cell_type": "code",
   "execution_count": 2,
   "id": "3faac73c",
   "metadata": {},
   "outputs": [],
   "source": [
    "import numpy as np\n",
    "import matplotlib.pyplot as plt"
   ]
  },
  {
   "cell_type": "code",
   "execution_count": null,
   "id": "f6d5f68f",
   "metadata": {},
   "outputs": [],
   "source": [
    "array1 = np.array ([[1,2,3] , [4,5,6]])\n",
    "array2 = np.random.rand(3,3)\n",
    "array3 = np.zeros((4,4))\n"
   ]
  },
  {
   "cell_type": "code",
   "execution_count": 12,
   "id": "0e9d6d71",
   "metadata": {},
   "outputs": [],
   "source": [
    "np.save('array1.npy' , array1)\n",
    "np.save('array2.npy' , array2)\n",
    "np.save('array3.npy' , array3)"
   ]
  },
  {
   "cell_type": "code",
   "execution_count": null,
   "id": "1f6b5eaa",
   "metadata": {},
   "outputs": [
    {
     "name": "stdout",
     "output_type": "stream",
     "text": [
      "[1 2 3 4 5]\n"
     ]
    }
   ],
   "source": [
    "loaded_array1 = np.load('array1.npy')\n",
    "print(loaded_array1)\n",
    "                      # pata nhi 5 tak hi print kyu ho rha hai "
   ]
  },
  {
   "cell_type": "markdown",
   "id": "1ddfb75e",
   "metadata": {},
   "source": [
    "## Displaying a Image with Dark Mode"
   ]
  },
  {
   "cell_type": "code",
   "execution_count": null,
   "id": "839f30d2",
   "metadata": {},
   "outputs": [
    {
     "name": "stdout",
     "output_type": "stream",
     "text": [
      "Numpy Logo file not found\n"
     ]
    }
   ],
   "source": [
    "try:\n",
    "    logo = np.load('numpy.npy')\n",
    "\n",
    "    #Display\n",
    "    plt.figure( figsize = (10,5))\n",
    "    plt.subplot(121)\n",
    "    plt.imshow(logo)\n",
    "    plt.title(\"Numpy logo\")\n",
    "    plt.grid(False)\n",
    "\n",
    "    dark_logo = 1-logo\n",
    "\n",
    "    plt.subplot(122)\n",
    "    plt.imshow(dark_logo)\n",
    "    plt.title(\"Numpy Dark logo\")\n",
    "    plt.grid(False)\n",
    "\n",
    "except FileNotFoundError:\n",
    "    print(\"Numpy Logo file not found\")"
   ]
  },
  {
   "cell_type": "code",
   "execution_count": null,
   "id": "d8d20fb9",
   "metadata": {},
   "outputs": [],
   "source": []
  }
 ],
 "metadata": {
  "kernelspec": {
   "display_name": ".venv",
   "language": "python",
   "name": "python3"
  },
  "language_info": {
   "codemirror_mode": {
    "name": "ipython",
    "version": 3
   },
   "file_extension": ".py",
   "mimetype": "text/x-python",
   "name": "python",
   "nbconvert_exporter": "python",
   "pygments_lexer": "ipython3",
   "version": "3.12.7"
  }
 },
 "nbformat": 4,
 "nbformat_minor": 5
}
