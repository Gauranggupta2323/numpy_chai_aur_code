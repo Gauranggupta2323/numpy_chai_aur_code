{
 "cells": [
  {
   "cell_type": "markdown",
   "id": "d0009f65",
   "metadata": {},
   "source": [
    "## Numpy array and basics\n",
    "learn about numpy "
   ]
  },
  {
   "cell_type": "code",
   "execution_count": 1,
   "id": "40c3ee97",
   "metadata": {},
   "outputs": [],
   "source": [
    "import numpy as np "
   ]
  },
  {
   "cell_type": "markdown",
   "id": "09e4a260",
   "metadata": {},
   "source": [
    "### Creating array from list"
   ]
  },
  {
   "cell_type": "code",
   "execution_count": 8,
   "id": "18b808aa",
   "metadata": {},
   "outputs": [
    {
     "name": "stdout",
     "output_type": "stream",
     "text": [
      "1D Array [1 2 3 4]\n",
      "2D Array [[1 2 3]\n",
      " [5 6 7]]\n"
     ]
    }
   ],
   "source": [
    "arr_1d=np.array([1,2,3,4])\n",
    "print(\"1D Array\",arr_1d)\n",
    "\n",
    "arr_2d = np.array([[1,2,3],[5,6,7]])    # 2d array mai single parameter hi pass hona chahiye isliye ek hi bracket mai 2 beracket pass kiye hai \n",
    "print(\"2D Array\",arr_2d)"
   ]
  },
  {
   "cell_type": "markdown",
   "id": "5d0eb370",
   "metadata": {},
   "source": [
    "### List vs numpy array"
   ]
  },
  {
   "cell_type": "code",
   "execution_count": null,
   "id": "e4a4826a",
   "metadata": {},
   "outputs": [
    {
     "name": "stdout",
     "output_type": "stream",
     "text": [
      "Python List Multuplication [1, 2, 3, 1, 2, 3]\n",
      "Python Array Multiplication [2 4 6]\n"
     ]
    }
   ],
   "source": [
    "py_list = [1,2,3]\n",
    "print(\"Python List Multuplication\",py_list*2)\n",
    "\n",
    "np_array= np.array([1,2,3])  # element wise multiplication\n",
    "print(\"Python Array Multiplication\" , np_array * 2)\n"
   ]
  },
  {
   "cell_type": "code",
   "execution_count": null,
   "id": "47695d58",
   "metadata": {},
   "outputs": [
    {
     "name": "stdout",
     "output_type": "stream",
     "text": [
      "\n",
      " List operation time: 0.11638951301574707\n",
      "\n",
      " Numpy operation time :  0.005579948425292969\n"
     ]
    }
   ],
   "source": [
    "import time               # ye bas efficiency pata krne ke liye likha hai ki numpy kyu jyada efficient hai\n",
    "start = time.time()\n",
    "py_list= [i*2 for i in range(1000000)]\n",
    "print(\"\\n List operation time:\" , time.time() - start)   # time.time() - start likhe se   time mil jaega to execute that particular task\n",
    "\n",
    "start = time.time()\n",
    "np_array = np.arange(1000000)*2\n",
    "print(\"\\n Numpy operation time : \" , time.time() - start) "
   ]
  },
  {
   "cell_type": "markdown",
   "id": "024c59d1",
   "metadata": {},
   "source": [
    "### Creating Array from Scratch"
   ]
  },
  {
   "cell_type": "code",
   "execution_count": null,
   "id": "dfbd8369",
   "metadata": {},
   "outputs": [
    {
     "name": "stdout",
     "output_type": "stream",
     "text": [
      "Zeros array: \n",
      " [[0. 0. 0. 0.]\n",
      " [0. 0. 0. 0.]\n",
      " [0. 0. 0. 0.]]\n",
      "Ones array:\n",
      " [[1. 1. 1. 1. 1.]\n",
      " [1. 1. 1. 1. 1.]]\n",
      "Full array:\n",
      " [[7 7]\n",
      " [7 7]]\n",
      "Random array:\n",
      " [[0.65985737 0.17765705 0.66068956]\n",
      " [0.54469093 0.36789271 0.86980608]]\n",
      "Sequence array:\n",
      " [0 3 6 9]\n"
     ]
    }
   ],
   "source": [
    "zeros = np.zeros ((3,4))\n",
    "print(\"Zeros array: \\n\", zeros)\n",
    "\n",
    "ones = np.ones ((2,5))\n",
    "print(\"Ones array:\\n\" , ones)\n",
    "\n",
    "\n",
    "full= np.full( (2,2),7)         # ismai apan ne bola 2 rows aur 2 columns ki array milegi jismai 7 hi likha hoga bas\n",
    "print(\"Full array:\\n\" , full)\n",
    "\n",
    "\n",
    "random = np.random.random( (2,3))   # 0 se 1 ke beech mai aati hai \n",
    "print(\"Random array:\\n\" , random)\n",
    "\n",
    "sequence = np.arange(0 ,10 ,3)   # non-inclusive hota hai   aur 0 se start 3 ka gap 10 tak \n",
    "print(\"Sequence array:\\n\" , sequence)"
   ]
  },
  {
   "cell_type": "markdown",
   "id": "8433fb6d",
   "metadata": {},
   "source": [
    "### Vector , Matrix and Tensor"
   ]
  },
  {
   "cell_type": "code",
   "execution_count": 24,
   "id": "e5bd9f35",
   "metadata": {},
   "outputs": [
    {
     "name": "stdout",
     "output_type": "stream",
     "text": [
      " Vector: [1 2 3]\n",
      "Matrix: [[1 2 3]\n",
      " [4 5 6]]\n",
      "Tensor: [[[1 2]\n",
      "  [3 4]]\n",
      "\n",
      " [[5 6]\n",
      "  [7 8]]]\n"
     ]
    }
   ],
   "source": [
    "vector = np.array ( [1,2,3])\n",
    "print( \" Vector:\" , vector)\n",
    "\n",
    "matrix = np.array ( [ [1,2,3], [4,5,6]])\n",
    "print(\"Matrix:\" , matrix)\n",
    "\n",
    "tensor = np.array ([[[1,2],[3,4]],[[5,6],[7,8]]])     # Tensor mai dimensions multiple hoti hai\n",
    "print(\"Tensor:\" , tensor)"
   ]
  },
  {
   "cell_type": "markdown",
   "id": "94976e81",
   "metadata": {},
   "source": [
    "### Array Properties"
   ]
  },
  {
   "cell_type": "code",
   "execution_count": 29,
   "id": "44c26072",
   "metadata": {},
   "outputs": [
    {
     "name": "stdout",
     "output_type": "stream",
     "text": [
      "Shape (2, 3)\n",
      "Dimension 2\n",
      "Size 6\n",
      "Dtype float64\n"
     ]
    }
   ],
   "source": [
    "arr= np.array ( [[1,2,3], [4,5,6.8]])         # keval ek element change krte hi Dtype change ho jaega \n",
    "print (\"Shape\", arr.shape)\n",
    "print (\"Dimension\", arr.ndim)    # kyuki array \n",
    "print (\"Size\", arr.size)\n",
    "print (\"Dtype\", arr.dtype)   # Datatype\n"
   ]
  },
  {
   "cell_type": "markdown",
   "id": "59262978",
   "metadata": {},
   "source": [
    "### Array Reshaping\n"
   ]
  },
  {
   "cell_type": "code",
   "execution_count": 37,
   "id": "d2ef06c4",
   "metadata": {},
   "outputs": [
    {
     "name": "stdout",
     "output_type": "stream",
     "text": [
      "Original Array [ 0  1  2  3  4  5  6  7  8  9 10 11]\n",
      "\n",
      " Reshaped array [[ 0  1  2  3]\n",
      " [ 4  5  6  7]\n",
      " [ 8  9 10 11]]\n",
      "\n",
      " Flattened Array [ 0  1  2  3  4  5  6  7  8  9 10 11]\n",
      "\n",
      " Raveled Array  [ 0  1  2  3  4  5  6  7  8  9 10 11]\n",
      "\n",
      " Transposed Array  [[ 0  4  8]\n",
      " [ 1  5  9]\n",
      " [ 2  6 10]\n",
      " [ 3  7 11]]\n"
     ]
    }
   ],
   "source": [
    "arr= np.arange(12)\n",
    "print(\"Original Array\" , arr)\n",
    "\n",
    "reshaped = arr.reshape((3,4))\n",
    "print (\"\\n Reshaped array\" , reshaped)\n",
    "\n",
    "flattened = reshaped.flatten()       # returns copy \n",
    "print(\"\\n Flattened Array\" , flattened)\n",
    "\n",
    "raveled = reshaped.ravel()     # returnns view instead of copy\n",
    "print(\"\\n Raveled Array \" , raveled)\n",
    "\n",
    "transpose = reshaped.T\n",
    "print(\"\\n Transposed Array \" , transpose)\n"
   ]
  }
 ],
 "metadata": {
  "kernelspec": {
   "display_name": ".venv",
   "language": "python",
   "name": "python3"
  },
  "language_info": {
   "codemirror_mode": {
    "name": "ipython",
    "version": 3
   },
   "file_extension": ".py",
   "mimetype": "text/x-python",
   "name": "python",
   "nbconvert_exporter": "python",
   "pygments_lexer": "ipython3",
   "version": "3.12.7"
  }
 },
 "nbformat": 4,
 "nbformat_minor": 5
}
