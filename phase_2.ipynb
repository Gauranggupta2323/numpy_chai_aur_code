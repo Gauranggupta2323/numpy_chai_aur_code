{
 "cells": [
  {
   "cell_type": "markdown",
   "id": "efc28a20",
   "metadata": {},
   "source": [
    "### Numpy Array Operations\n",
    " "
   ]
  },
  {
   "cell_type": "code",
   "execution_count": 1,
   "id": "5e299982",
   "metadata": {},
   "outputs": [],
   "source": [
    "import numpy as np"
   ]
  },
  {
   "cell_type": "code",
   "execution_count": null,
   "id": "ceb55a35",
   "metadata": {},
   "outputs": [
    {
     "name": "stdout",
     "output_type": "stream",
     "text": [
      "Basic Slicing [3 4 5 6 7]\n",
      "With Step [2 4 6 8]\n",
      "Negative Indexing 8\n"
     ]
    }
   ],
   "source": [
    "arr = np.array ([1,2,3,4,5,6,7,8,9,10])\n",
    "\n",
    "print (\"Basic Slicing\", arr[2:7])   # 2 ko include nhi krega but 7 ko karega\n",
    "print(\"With Step\" , arr[1:8:2])     # 2 - iska matlab every 2nd position\n",
    "print(\"Negative Indexing\" , arr[-3])    # last se 3rd value\n"
   ]
  },
  {
   "cell_type": "code",
   "execution_count": 7,
   "id": "1b3a71f7",
   "metadata": {},
   "outputs": [
    {
     "name": "stdout",
     "output_type": "stream",
     "text": [
      "Specific Element 6\n",
      "Entire Row [4 5 6]\n",
      "Entire Column [2 5 8]\n"
     ]
    }
   ],
   "source": [
    "arr_2d = np.array ([[1,2,3],   # 0th row    0,1,2 elements\n",
    "                    [4,5,6],   # 1st row    0,1,2 elements\n",
    "                    [7,8,9]])  # 2nd row    0,1,2 elements    \n",
    " \n",
    "print(\"Specific Element\" , arr_2d[1,2])       # 1st row ka 2nd element\n",
    "print(\"Entire Row\" , arr_2d[1])               # iska matlab puri 1st row\n",
    "print(\"Entire Column\" , arr_2d[: , 1])        # : iska matalb rows toh sari included but column bs 1 wala"
   ]
  },
  {
   "cell_type": "markdown",
   "id": "d5d0d113",
   "metadata": {},
   "source": [
    "## Sorting"
   ]
  },
  {
   "cell_type": "code",
   "execution_count": 11,
   "id": "70085c29",
   "metadata": {},
   "outputs": [
    {
     "name": "stdout",
     "output_type": "stream",
     "text": [
      "Sorted Array [1 1 2 3 4 5 6 9]\n",
      "Sorted 2D Array bu Column [[1 1]\n",
      " [2 2]\n",
      " [3 3]]\n",
      "Sorted 2D Array bu Row [[1 3]\n",
      " [1 2]\n",
      " [2 3]]\n"
     ]
    }
   ],
   "source": [
    "unsorted = np.array ([3,1,4,1,5,9,2,6])\n",
    "print (\"Sorted Array\" , np.sort (unsorted)) \n",
    "\n",
    "arr_2d_unsorted = np.array ( [[3,1],[1,2],[2,3]])\n",
    "print (\"Sorted 2D Array bu Column\" , np.sort (arr_2d_unsorted , axis = 0)) \n",
    "print (\"Sorted 2D Array bu Row\" , np.sort (arr_2d_unsorted , axis = 1)) "
   ]
  },
  {
   "cell_type": "markdown",
   "id": "267345f9",
   "metadata": {},
   "source": [
    "## Filtering"
   ]
  },
  {
   "cell_type": "code",
   "execution_count": 12,
   "id": "4412737f",
   "metadata": {},
   "outputs": [
    {
     "name": "stdout",
     "output_type": "stream",
     "text": [
      "Even Numbers [ 2  4  6  8 10]\n"
     ]
    }
   ],
   "source": [
    "numbers = np.array ([1,2,3,4,5,6,7,8,9,10])\n",
    "even_number = numbers [ numbers % 2 ==0]\n",
    "print (\"Even Numbers\", even_number)\n"
   ]
  },
  {
   "cell_type": "markdown",
   "id": "e3c8819b",
   "metadata": {},
   "source": [
    "#### Filter with Mask"
   ]
  },
  {
   "cell_type": "code",
   "execution_count": 15,
   "id": "c8268677",
   "metadata": {},
   "outputs": [
    {
     "name": "stdout",
     "output_type": "stream",
     "text": [
      "Numbers grater than 5 : [ 6  7  8  9 10]\n"
     ]
    }
   ],
   "source": [
    "mask = numbers > 5\n",
    "print (\"Numbers grater than 5 :\" , numbers[mask])"
   ]
  },
  {
   "cell_type": "markdown",
   "id": "c0f70d6c",
   "metadata": {},
   "source": [
    "### Fancy indexing vs np.where()"
   ]
  },
  {
   "cell_type": "code",
   "execution_count": 16,
   "id": "dd81398e",
   "metadata": {},
   "outputs": [
    {
     "name": "stdout",
     "output_type": "stream",
     "text": [
      "[1 3 5]\n",
      " NP where [ 6  7  8  9 10]\n"
     ]
    }
   ],
   "source": [
    "indices = [0,2,4]\n",
    "print(numbers [indices] )\n",
    "\n",
    "where_result = np.where (numbers>5)         # store krke likh diya bas same masking ki tarah\n",
    "print (\" NP where\" , numbers [where_result])"
   ]
  },
  {
   "cell_type": "code",
   "execution_count": null,
   "id": "08ea15d3",
   "metadata": {},
   "outputs": [
    {
     "name": "stdout",
     "output_type": "stream",
     "text": [
      "[ 1  2  3  4  5 24 28 32 36 40]\n"
     ]
    }
   ],
   "source": [
    "condition_array = np.where(numbers > 5 , numbers*4 , numbers )     # first wali main condition then baaki dono x and y hote hai \n",
    "print (condition_array) \n",
    "\n",
    "\n",
    "# np.where() -  existed code ko modify kr deta hai \n"
   ]
  },
  {
   "cell_type": "code",
   "execution_count": 19,
   "id": "e45df37e",
   "metadata": {},
   "outputs": [
    {
     "data": {
      "text/plain": [
       "'\\nif(numbers > 5){\\n    numbers*4\\n}\\nelse {\\n    numbers\\n}\\n'"
      ]
     },
     "execution_count": 19,
     "metadata": {},
     "output_type": "execute_result"
    }
   ],
   "source": [
    "'''\n",
    "if(numbers > 5){\n",
    "    numbers*4\n",
    "}\n",
    "else {\n",
    "    numbers\n",
    "}\n",
    "'''"
   ]
  },
  {
   "cell_type": "markdown",
   "id": "20e8e2b9",
   "metadata": {},
   "source": [
    "## Adding and Removing Data"
   ]
  },
  {
   "cell_type": "code",
   "execution_count": 23,
   "id": "d36d125f",
   "metadata": {},
   "outputs": [
    {
     "name": "stdout",
     "output_type": "stream",
     "text": [
      "It just add the rows : [5 7 9]\n",
      "Now these two arrays are combined : [1 2 3 4 5 6]\n"
     ]
    }
   ],
   "source": [
    "arr1 = np.array ([1,2,3])\n",
    "arr2 = np.array ([4,5,6])\n",
    "\n",
    "combined = arr1 + arr2\n",
    "print(\"It just add the rows :\" ,combined)   \n",
    "\n",
    "\n",
    "combined = np.concatenate ((arr1,arr2))\n",
    "print(\"Now these two arrays are combined :\" ,combined)   \n"
   ]
  },
  {
   "cell_type": "markdown",
   "id": "f9becb8f",
   "metadata": {},
   "source": [
    "## Array Compatibilty"
   ]
  },
  {
   "cell_type": "code",
   "execution_count": 25,
   "id": "7d8c9291",
   "metadata": {},
   "outputs": [
    {
     "name": "stdout",
     "output_type": "stream",
     "text": [
      "Comaptibility Shapes :  False\n"
     ]
    }
   ],
   "source": [
    "a = np.array ([1,2,3])\n",
    "b = np.array ([4,5,6,0])\n",
    "c = np.array([7,8,9])\n",
    "\n",
    "print (\"Comaptibility Shapes : \" , a.shape == b.shape)"
   ]
  },
  {
   "cell_type": "markdown",
   "id": "94ceb7c7",
   "metadata": {},
   "source": [
    "### Row Addition"
   ]
  },
  {
   "cell_type": "code",
   "execution_count": null,
   "id": "0a9837d9",
   "metadata": {},
   "outputs": [
    {
     "name": "stdout",
     "output_type": "stream",
     "text": [
      "Original [[1 2]\n",
      " [3 4]]\n",
      "New Row [[1 2]\n",
      " [3 4]\n",
      " [5 6]]\n"
     ]
    }
   ],
   "source": [
    "original = np.array([[1,2],[3,4]])\n",
    "new_row = np.array([5,6])\n",
    "\n",
    "with_new_row = np.vstack((original , new_row))      # vstack se row add hoti hai \n",
    "\n",
    "print(\"Original\", original)\n",
    "print(\"New Row\" , with_new_row)"
   ]
  },
  {
   "cell_type": "markdown",
   "id": "0c9fa364",
   "metadata": {},
   "source": [
    "### Column Addition"
   ]
  },
  {
   "cell_type": "code",
   "execution_count": null,
   "id": "5e562ab8",
   "metadata": {},
   "outputs": [
    {
     "name": "stdout",
     "output_type": "stream",
     "text": [
      "Original [[1 2]\n",
      " [3 4]]\n",
      "New Row [[1 2 5]\n",
      " [3 4 6]]\n"
     ]
    }
   ],
   "source": [
    "original = np.array([[1,2],[3,4]])\n",
    "new_column = np.array([[5],[6]])\n",
    "\n",
    "with_new_column = np.hstack((original , new_column))        # hstack se new column add hote hai\n",
    "\n",
    "print(\"Original\", original)\n",
    "print(\"New Row\" , with_new_column)"
   ]
  },
  {
   "cell_type": "markdown",
   "id": "e226b2a6",
   "metadata": {},
   "source": [
    "## Deletion "
   ]
  },
  {
   "cell_type": "code",
   "execution_count": 35,
   "id": "731f71a0",
   "metadata": {},
   "outputs": [
    {
     "name": "stdout",
     "output_type": "stream",
     "text": [
      "Array after deletion [1 2 4 5]\n"
     ]
    }
   ],
   "source": [
    "arr= np.array([1,2,3,4,5])\n",
    "deleted = np.delete(arr, 2)       # 2nd position ka element delete krega\n",
    "print(\"Array after deletion\" , deleted)"
   ]
  }
 ],
 "metadata": {
  "kernelspec": {
   "display_name": ".venv",
   "language": "python",
   "name": "python3"
  },
  "language_info": {
   "codemirror_mode": {
    "name": "ipython",
    "version": 3
   },
   "file_extension": ".py",
   "mimetype": "text/x-python",
   "name": "python",
   "nbconvert_exporter": "python",
   "pygments_lexer": "ipython3",
   "version": "3.12.7"
  }
 },
 "nbformat": 4,
 "nbformat_minor": 5
}
